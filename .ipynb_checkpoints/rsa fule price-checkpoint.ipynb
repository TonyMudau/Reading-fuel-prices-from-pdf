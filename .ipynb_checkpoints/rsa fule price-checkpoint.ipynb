{
 "cells": [
  {
   "cell_type": "code",
   "execution_count": 1,
   "id": "4f265df5",
   "metadata": {},
   "outputs": [],
   "source": [
    "# importing required modules\n",
    "from tabula import read_pdf\n",
    "import pandas as pd\n",
    "import matplotlib.pyplot as plt\n",
    "import os"
   ]
  },
  {
   "cell_type": "code",
   "execution_count": 2,
   "id": "5a66a938",
   "metadata": {},
   "outputs": [],
   "source": [
    "class fuel_prices:\n",
    "    def __init__(self, pdf_file):\n",
    "        self.pdf_file = pdf_file \n",
    "        \n",
    "    #This fuction gets the table from the pdf\n",
    "    def show_fuel_table(self):\n",
    "        pdf_file = read_pdf(r\"{cwd}\\{pdf_file}.pdf\".format(cwd=os.getcwd(), pdf_file = self.pdf_file))\n",
    "        fuelprices = pdf_file[0]\n",
    "        price = fuelprices[5:]\n",
    "        price.columns = price.iloc[0]\n",
    "        fule_table = price.iloc[2:14,:].rename(columns={'c/litre': 'Month'})\n",
    "        fule_table.reset_index(drop=True, inplace=True)\n",
    "        fule_table = fule_table.set_index('Month')\n",
    "        return fule_table\n",
    "    \n",
    "    def plot_fuel_price(self, fueltype):\n",
    "        return plt.plot(self.show_fuel_table()[f'{fueltype}'].astype(float), label= f'{fueltype}')"
   ]
  },
  {
   "cell_type": "code",
   "execution_count": 3,
   "id": "601e7a4c",
   "metadata": {},
   "outputs": [],
   "source": [
    "PDF2020 = fuel_prices('2020fuel')"
   ]
  },
  {
   "cell_type": "code",
   "execution_count": 4,
   "id": "769f8468",
   "metadata": {},
   "outputs": [
    {
     "name": "stderr",
     "output_type": "stream",
     "text": [
      "'pages' argument isn't specified.Will extract only from page 1 by default.\n"
     ]
    },
    {
     "data": {
      "text/html": [
       "<div><div id=fa348b55-93eb-4a9a-aff2-cdb7985697e2 style=\"display:none; background-color:#9D6CFF; color:white; width:200px; height:30px; padding-left:5px; border-radius:4px; flex-direction:row; justify-content:space-around; align-items:center;\" onmouseover=\"this.style.backgroundColor='#BA9BF8'\" onmouseout=\"this.style.backgroundColor='#9D6CFF'\" onclick=\"window.commands?.execute('create-mitosheet-from-dataframe-output');\">See Full Dataframe in Mito</div> <script> if (window.commands.hasCommand('create-mitosheet-from-dataframe-output')) document.getElementById('fa348b55-93eb-4a9a-aff2-cdb7985697e2').style.display = 'flex' </script> <table border=\"1\" class=\"dataframe\">\n",
       "  <thead>\n",
       "    <tr style=\"text-align: right;\">\n",
       "      <th>5</th>\n",
       "      <th>Unleaded</th>\n",
       "      <th>Unleaded</th>\n",
       "      <th>0.05% Sulphur</th>\n",
       "      <th>0.005% sulphur  Paraffin  gate price</th>\n",
       "      <th>Rate Rand/US$</th>\n",
       "      <th>Dated Brent Crude</th>\n",
       "    </tr>\n",
       "    <tr>\n",
       "      <th>Month</th>\n",
       "      <th></th>\n",
       "      <th></th>\n",
       "      <th></th>\n",
       "      <th></th>\n",
       "      <th></th>\n",
       "      <th></th>\n",
       "    </tr>\n",
       "  </thead>\n",
       "  <tbody>\n",
       "    <tr>\n",
       "      <th>JAN</th>\n",
       "      <td>677.970</td>\n",
       "      <td>699.970</td>\n",
       "      <td>742.630</td>\n",
       "      <td>748.030 732.128 894.739</td>\n",
       "      <td>14.4784</td>\n",
       "      <td>67.01</td>\n",
       "    </tr>\n",
       "    <tr>\n",
       "      <th>FEB</th>\n",
       "      <td>664.970</td>\n",
       "      <td>686.970</td>\n",
       "      <td>737.630</td>\n",
       "      <td>743.030 734.128 894.501</td>\n",
       "      <td>14.3276</td>\n",
       "      <td>64.50</td>\n",
       "    </tr>\n",
       "    <tr>\n",
       "      <th>MAR</th>\n",
       "      <td>645.970</td>\n",
       "      <td>667.970</td>\n",
       "      <td>683.630</td>\n",
       "      <td>689.030 666.128 870.072</td>\n",
       "      <td>14.9789</td>\n",
       "      <td>55.70</td>\n",
       "    </tr>\n",
       "    <tr>\n",
       "      <th>APR</th>\n",
       "      <td>438.670</td>\n",
       "      <td>448.670</td>\n",
       "      <td>518.720</td>\n",
       "      <td>523.120 468.128 583.908</td>\n",
       "      <td>16.4305</td>\n",
       "      <td>33.88</td>\n",
       "    </tr>\n",
       "    <tr>\n",
       "      <th>MAY</th>\n",
       "      <td>264.770</td>\n",
       "      <td>274.770</td>\n",
       "      <td>357.630</td>\n",
       "      <td>367.030 245.128 386.249</td>\n",
       "      <td>18.4771</td>\n",
       "      <td>18.99</td>\n",
       "    </tr>\n",
       "    <tr>\n",
       "      <th>...</th>\n",
       "      <td>...</td>\n",
       "      <td>...</td>\n",
       "      <td>...</td>\n",
       "      <td>...</td>\n",
       "      <td>...</td>\n",
       "      <td>...</td>\n",
       "    </tr>\n",
       "    <tr>\n",
       "      <th>AUG</th>\n",
       "      <td>550.770</td>\n",
       "      <td>569.770</td>\n",
       "      <td>597.630</td>\n",
       "      <td>602.030 538.128 871.419</td>\n",
       "      <td>16.8234</td>\n",
       "      <td>4342</td>\n",
       "    </tr>\n",
       "    <tr>\n",
       "      <th>SEP</th>\n",
       "      <td>546.470</td>\n",
       "      <td>565.470</td>\n",
       "      <td>576.630</td>\n",
       "      <td>581.030 512.128 898.689</td>\n",
       "      <td>17.2814</td>\n",
       "      <td>44.82</td>\n",
       "    </tr>\n",
       "    <tr>\n",
       "      <th>OCT</th>\n",
       "      <td>523.470</td>\n",
       "      <td>533.470</td>\n",
       "      <td>486.630</td>\n",
       "      <td>488.030 436.128 883.459</td>\n",
       "      <td>16.7204</td>\n",
       "      <td>38.915</td>\n",
       "    </tr>\n",
       "    <tr>\n",
       "      <th>NOV</th>\n",
       "      <td>496.470</td>\n",
       "      <td>506.470</td>\n",
       "      <td>474.630</td>\n",
       "      <td>477.030 451.128 902.860</td>\n",
       "      <td>16.4657</td>\n",
       "      <td>40.413</td>\n",
       "    </tr>\n",
       "    <tr>\n",
       "      <th>DEC</th>\n",
       "      <td>469.170</td>\n",
       "      <td>479.170</td>\n",
       "      <td>486.630</td>\n",
       "      <td>489.030 472.128 959.517</td>\n",
       "      <td>15.6305</td>\n",
       "      <td>41.692</td>\n",
       "    </tr>\n",
       "  </tbody>\n",
       "</table></div>"
      ],
      "text/plain": [
       "5     Unleaded Unleaded 0.05% Sulphur 0.005% sulphur  Paraffin  gate price  \\\n",
       "Month                                                                        \n",
       "JAN    677.970  699.970       742.630              748.030 732.128 894.739   \n",
       "FEB    664.970  686.970       737.630              743.030 734.128 894.501   \n",
       "MAR    645.970  667.970       683.630              689.030 666.128 870.072   \n",
       "APR    438.670  448.670       518.720              523.120 468.128 583.908   \n",
       "MAY    264.770  274.770       357.630              367.030 245.128 386.249   \n",
       "JUN    382.770  392.770       379.630              388.030 285.128 535.849   \n",
       "JUL    545.770  564.774       552.630              557.030 499.128 874.320   \n",
       "AUG    550.770  569.770       597.630              602.030 538.128 871.419   \n",
       "SEP    546.470  565.470       576.630              581.030 512.128 898.689   \n",
       "OCT    523.470  533.470       486.630              488.030 436.128 883.459   \n",
       "NOV    496.470  506.470       474.630              477.030 451.128 902.860   \n",
       "DEC    469.170  479.170       486.630              489.030 472.128 959.517   \n",
       "\n",
       "5     Rate Rand/US$ Dated Brent Crude  \n",
       "Month                                  \n",
       "JAN         14.4784             67.01  \n",
       "FEB         14.3276             64.50  \n",
       "MAR         14.9789             55.70  \n",
       "APR         16.4305             33.88  \n",
       "MAY         18.4771             18.99  \n",
       "JUN         18.1715             28.71  \n",
       "JUL         17.1271             39.87  \n",
       "AUG         16.8234              4342  \n",
       "SEP         17.2814             44.82  \n",
       "OCT         16.7204            38.915  \n",
       "NOV         16.4657            40.413  \n",
       "DEC         15.6305            41.692  "
      ]
     },
     "execution_count": 4,
     "metadata": {},
     "output_type": "execute_result"
    }
   ],
   "source": [
    "PDF2020.show_fuel_table()"
   ]
  },
  {
   "cell_type": "code",
   "execution_count": 5,
   "id": "925747c8",
   "metadata": {},
   "outputs": [
    {
     "name": "stderr",
     "output_type": "stream",
     "text": [
      "'pages' argument isn't specified.Will extract only from page 1 by default.\n"
     ]
    },
    {
     "data": {
      "text/plain": [
       "[<matplotlib.lines.Line2D at 0x26dfa8b44c0>]"
      ]
     },
     "execution_count": 5,
     "metadata": {},
     "output_type": "execute_result"
    },
    {
     "data": {
      "image/png": "[encoded data removed]",
      "text/plain": [
       "<Figure size 432x288 with 1 Axes>"
      ]
     },
     "metadata": {
      "needs_background": "light"
     },
     "output_type": "display_data"
    }
   ],
   "source": [
    "PDF2020.plot_fuel_price('0.05% Sulphur')"
   ]
  },
  {
   "cell_type": "code",
   "execution_count": 6,
   "id": "40b8e3c8",
   "metadata": {},
   "outputs": [
    {
     "name": "stderr",
     "output_type": "stream",
     "text": [
      "'pages' argument isn't specified.Will extract only from page 1 by default.\n"
     ]
    },
    {
     "data": {
      "text/plain": [
       "[<matplotlib.lines.Line2D at 0x26dfc9d64c0>]"
      ]
     },
     "execution_count": 6,
     "metadata": {},
     "output_type": "execute_result"
    },
    {
     "data": {
      "image/png": "[encoded data removed]",
      "text/plain": [
       "<Figure size 432x288 with 1 Axes>"
      ]
     },
     "metadata": {
      "needs_background": "light"
     },
     "output_type": "display_data"
    }
   ],
   "source": [
    "PDF2020.plot_fuel_price('Rate Rand/US$')"
   ]
  },
  {
   "cell_type": "code",
   "execution_count": null,
   "id": "55f9cfca",
   "metadata": {},
   "outputs": [],
   "source": []
  }
 ],
 "metadata": {
  "kernelspec": {
   "display_name": "Python 3 (ipykernel)",
   "language": "python",
   "name": "python3"
  },
  "language_info": {
   "codemirror_mode": {
    "name": "ipython",
    "version": 3
   },
   "file_extension": ".py",
   "mimetype": "text/x-python",
   "name": "python",
   "nbconvert_exporter": "python",
   "pygments_lexer": "ipython3",
   "version": "3.9.7"
  }
 },
 "nbformat": 4,
 "nbformat_minor": 5
}
